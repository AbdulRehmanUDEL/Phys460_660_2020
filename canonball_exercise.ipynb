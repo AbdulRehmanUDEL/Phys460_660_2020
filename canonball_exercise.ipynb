{
 "cells": [
  {
   "cell_type": "markdown",
   "metadata": {},
   "source": [
    "## In class exercise\n",
    "\n",
    "The goal: Write an Euler integrator to compute the trajectory of a cannonball.\n",
    "\n",
    "1. Write the equations of motion for a canonball of mass $m$ subject to a uniform gravitational force $g$ (no air resitance). \n",
    "2. The equations in step 1 are second order ODEs, but for Euler we need first order ODEs. Re-write the equations of motion as four first-order ODEs.\n",
    "3. Normalize the equations of motion from step 2 so that the timescale $t_0$ is expressed in terms of the initial speed $v_0$ and $g$.\n",
    "4. Write the pseudocode for the Euler integrator.\n",
    "5. Implement the algorithm in code. \n",
    "6. Check that the numerical solution agrees with the kinematics that you learned in your freshman year.\n",
    "7. Play with the timestep to see how the discretization impacts the numerical result. Find the limits of stability.\n"
   ]
  },
  {
   "cell_type": "code",
   "execution_count": null,
   "metadata": {},
   "outputs": [],
   "source": []
  }
 ],
 "metadata": {
  "kernelspec": {
   "display_name": "Python 3",
   "language": "python",
   "name": "python3"
  },
  "language_info": {
   "codemirror_mode": {
    "name": "ipython",
    "version": 3
   },
   "file_extension": ".py",
   "mimetype": "text/x-python",
   "name": "python",
   "nbconvert_exporter": "python",
   "pygments_lexer": "ipython3",
   "version": "3.7.4"
  }
 },
 "nbformat": 4,
 "nbformat_minor": 2
}
